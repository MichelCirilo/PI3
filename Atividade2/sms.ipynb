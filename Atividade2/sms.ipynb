{
 "cells": [
  {
   "cell_type": "markdown",
   "id": "93b7a5c4-65f1-4e62-a863-f461eeb0069b",
   "metadata": {},
   "source": [
    "Este artigo científico aborda o crescente problema do spam por SMS, destacando a escassez de conjuntos de dados públicos para pesquisa e avaliação de filtros. Para superar essa limitação, os autores apresentam uma nova e extensa coleção de mensagens SMS reais e não codificadas, considerada a maior disponível até então. O estudo também compara o desempenho de diversos métodos de aprendizado de máquina na filtragem de spam, revelando que o Support Vector Machine (SVM) obteve os melhores resultados, estabelecendo uma importante linha de base para futuras comparações. A pesquisa conclui que, apesar dos desafios inerentes à natureza concisa e informal das mensagens SMS, o SVM demonstra ser uma técnica promissora para combater o spam móvel."
   ]
  },
  {
   "cell_type": "markdown",
   "id": "b74edf37-ee36-4154-a75b-9da9599a7fca",
   "metadata": {},
   "source": [
    "# Passo 1: Carregamento e Exploração"
   ]
  },
  {
   "cell_type": "code",
   "execution_count": 3,
   "id": "28df47b5-03de-4d11-86dc-2199128bd38a",
   "metadata": {},
   "outputs": [],
   "source": [
    "# Importando as bibliotecas\n",
    "import requests\n",
    "import zipfile\n",
    "import io\n",
    "import pandas as pd"
   ]
  },
  {
   "cell_type": "code",
   "execution_count": 5,
   "id": "3446e041-b0d8-4103-87e7-fcbf8735c07f",
   "metadata": {},
   "outputs": [],
   "source": [
    "# Carregando o dataset \n",
    "url = \"https://archive.ics.uci.edu/static/public/228/sms+spam+collection.zip\"\n",
    "response = requests.get(url)\n",
    "response.raise_for_status() # Lança uma exceção se o download falhar"
   ]
  },
  {
   "cell_type": "code",
   "execution_count": 7,
   "id": "639eff67-744b-4b5f-b865-6172c7870422",
   "metadata": {},
   "outputs": [],
   "source": [
    "#descompactando os arquivos\n",
    "with zipfile.ZipFile(io.BytesIO(response.content)) as zip_ref:\n",
    "    zip_ref.extractall(\".\") # Extrai todos os arquivos para o diretório atual"
   ]
  },
  {
   "cell_type": "code",
   "execution_count": 9,
   "id": "1e279cc2-8a21-4e75-ae88-61a0706ee963",
   "metadata": {},
   "outputs": [],
   "source": [
    "df_sms = pd.read_csv('SMSSpamCollection', sep='\\t', header=None, names=['label', 'message'])"
   ]
  },
  {
   "cell_type": "code",
   "execution_count": 11,
   "id": "9060d183-be8b-4247-8e68-979a25be52bc",
   "metadata": {},
   "outputs": [
    {
     "data": {
      "text/html": [
       "<div>\n",
       "<style scoped>\n",
       "    .dataframe tbody tr th:only-of-type {\n",
       "        vertical-align: middle;\n",
       "    }\n",
       "\n",
       "    .dataframe tbody tr th {\n",
       "        vertical-align: top;\n",
       "    }\n",
       "\n",
       "    .dataframe thead th {\n",
       "        text-align: right;\n",
       "    }\n",
       "</style>\n",
       "<table border=\"1\" class=\"dataframe\">\n",
       "  <thead>\n",
       "    <tr style=\"text-align: right;\">\n",
       "      <th></th>\n",
       "      <th>label</th>\n",
       "      <th>message</th>\n",
       "    </tr>\n",
       "  </thead>\n",
       "  <tbody>\n",
       "    <tr>\n",
       "      <th>0</th>\n",
       "      <td>ham</td>\n",
       "      <td>Go until jurong point, crazy.. Available only ...</td>\n",
       "    </tr>\n",
       "    <tr>\n",
       "      <th>1</th>\n",
       "      <td>ham</td>\n",
       "      <td>Ok lar... Joking wif u oni...</td>\n",
       "    </tr>\n",
       "    <tr>\n",
       "      <th>2</th>\n",
       "      <td>spam</td>\n",
       "      <td>Free entry in 2 a wkly comp to win FA Cup fina...</td>\n",
       "    </tr>\n",
       "    <tr>\n",
       "      <th>3</th>\n",
       "      <td>ham</td>\n",
       "      <td>U dun say so early hor... U c already then say...</td>\n",
       "    </tr>\n",
       "    <tr>\n",
       "      <th>4</th>\n",
       "      <td>ham</td>\n",
       "      <td>Nah I don't think he goes to usf, he lives aro...</td>\n",
       "    </tr>\n",
       "  </tbody>\n",
       "</table>\n",
       "</div>"
      ],
      "text/plain": [
       "  label                                            message\n",
       "0   ham  Go until jurong point, crazy.. Available only ...\n",
       "1   ham                      Ok lar... Joking wif u oni...\n",
       "2  spam  Free entry in 2 a wkly comp to win FA Cup fina...\n",
       "3   ham  U dun say so early hor... U c already then say...\n",
       "4   ham  Nah I don't think he goes to usf, he lives aro..."
      ]
     },
     "execution_count": 11,
     "metadata": {},
     "output_type": "execute_result"
    }
   ],
   "source": [
    "df_sms.head()"
   ]
  },
  {
   "cell_type": "code",
   "execution_count": 13,
   "id": "299f17e5-bef3-46be-ae8e-9f4a0c0121b3",
   "metadata": {},
   "outputs": [
    {
     "name": "stdout",
     "output_type": "stream",
     "text": [
      "label\n",
      "ham     4825\n",
      "spam     747\n",
      "Name: count, dtype: int64\n"
     ]
    }
   ],
   "source": [
    "# Analisando a distribuição ham/spam\n",
    "print(df_sms['label'].value_counts())"
   ]
  },
  {
   "cell_type": "code",
   "execution_count": 15,
   "id": "ed1e05d2-1e32-4a93-b0ab-e09fd395e166",
   "metadata": {},
   "outputs": [
    {
     "name": "stdout",
     "output_type": "stream",
     "text": [
      "\n",
      "Exemplo de Ham:\n",
      "Go until jurong point, crazy.. Available only in bugis n great world la e buffet... Cine there got amore wat...\n",
      "\n",
      "Exemplo de Spam:\n",
      "Free entry in 2 a wkly comp to win FA Cup final tkts 21st May 2005. Text FA to 87121 to receive entry question(std txt rate)T&C's apply 08452810075over18's\n"
     ]
    }
   ],
   "source": [
    "# Exemplos de cada classe\n",
    "print(\"\\nExemplo de Ham:\")\n",
    "print(df_sms[df_sms['label'] == 'ham']['message'].iloc[0])\n",
    "print(\"\\nExemplo de Spam:\")\n",
    "print(df_sms[df_sms['label'] == 'spam']['message'].iloc[0])"
   ]
  },
  {
   "cell_type": "markdown",
   "id": "00e32013-42d1-42de-8ec1-5b7b8fe622d9",
   "metadata": {},
   "source": [
    "# Passo 2: Pré-processamento"
   ]
  },
  {
   "cell_type": "code",
   "execution_count": 17,
   "id": "cf128817-2cfb-48bb-9f2b-27566ddfcaf0",
   "metadata": {},
   "outputs": [],
   "source": [
    "import re\n",
    "\n",
    "def limpar_texto(texto):\n",
    "    texto = re.sub(r'[^a-zA-Z]', ' ', texto)  # Remove caracteres especiais e números\n",
    "    texto = texto.lower()  # Converte para minúsculas\n",
    "    texto = texto.strip()  # Remove espaços em branco extras\n",
    "    return texto\n",
    "\n",
    "df_sms['message'] = df_sms['message'].apply(limpar_texto)\n",
    "\n",
    "# Tokenização (exemplo com split simples)\n",
    "df_sms['tokens'] = df_sms['message'].apply(lambda x: x.split())\n",
    "\n",
    "# (Opcional) Testar stopwords e stemming aqui"
   ]
  },
  {
   "cell_type": "code",
   "execution_count": null,
   "id": "9f6abfc9-a55a-4dec-810b-0eea3ffc102b",
   "metadata": {},
   "outputs": [],
   "source": []
  }
 ],
 "metadata": {
  "kernelspec": {
   "display_name": "Python [conda env:base] *",
   "language": "python",
   "name": "conda-base-py"
  },
  "language_info": {
   "codemirror_mode": {
    "name": "ipython",
    "version": 3
   },
   "file_extension": ".py",
   "mimetype": "text/x-python",
   "name": "python",
   "nbconvert_exporter": "python",
   "pygments_lexer": "ipython3",
   "version": "3.12.7"
  }
 },
 "nbformat": 4,
 "nbformat_minor": 5
}
