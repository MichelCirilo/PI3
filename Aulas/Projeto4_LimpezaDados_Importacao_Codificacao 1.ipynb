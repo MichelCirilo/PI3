{
 "cells": [
  {
   "cell_type": "markdown",
   "id": "5ea62f11",
   "metadata": {},
   "source": [
    "# <font color='green'>Projeto Integrador 3 - Análise de Dados 1</font>\n",
    "## <font color='green'>Projeto 4 - Trabalhando com Codificação de Caracteres</font>"
   ]
  },
  {
   "cell_type": "markdown",
   "id": "03314c19",
   "metadata": {},
   "source": [
    "## Instalando e Carregando os Pacotes"
   ]
  },
  {
   "cell_type": "code",
   "execution_count": 1,
   "id": "438b83fd",
   "metadata": {},
   "outputs": [
    {
     "name": "stdout",
     "output_type": "stream",
     "text": [
      "Versão da Linguagem Python Usada Neste Jupyter Notebook: 3.11.7\n"
     ]
    }
   ],
   "source": [
    "# Versão da Linguagem Python\n",
    "from platform import python_version\n",
    "print('Versão da Linguagem Python Usada Neste Jupyter Notebook:', python_version())"
   ]
  },
  {
   "cell_type": "code",
   "execution_count": 2,
   "id": "21fcd26f",
   "metadata": {},
   "outputs": [],
   "source": [
    "# Para atualizar um pacote, execute o comando abaixo no terminal ou prompt de comando:\n",
    "# pip install -U nome_pacote\n",
    "\n",
    "# Para instalar a versão exata de um pacote, execute o comando abaixo no terminal ou prompt de comando:\n",
    "# !pip install nome_pacote==versão_desejada\n",
    "\n",
    "# Depois de instalar ou atualizar o pacote, reinicie o jupyter notebook.\n",
    "\n",
    "# Instala o pacote watermark. \n",
    "# Esse pacote é usado para gravar as versões de outros pacotes usados neste jupyter notebook.\n",
    "#!pip install -q -U watermark"
   ]
  },
  {
   "cell_type": "code",
   "execution_count": 3,
   "id": "1514709e",
   "metadata": {},
   "outputs": [],
   "source": [
    "# Importação dos módulos básicos\n",
    "import numpy as np\n",
    "import pandas as pd\n",
    "# Módulo muito útil para Codificação de Caracteres\n",
    "import chardet\n",
    "# Definição de um princípio de geração para reprodutibilidade\n",
    "np.random.seed(0)\n",
    "\n",
    "import warnings\n",
    "warnings.filterwarnings(\"ignore\")"
   ]
  },
  {
   "cell_type": "code",
   "execution_count": 4,
   "id": "e2074aa8",
   "metadata": {},
   "outputs": [
    {
     "name": "stdout",
     "output_type": "stream",
     "text": [
      "Author: pyPRO - Transformando vidas com o Poder do Código!\n",
      "\n",
      "chardet: 4.0.0\n",
      "pandas : 2.2.2\n",
      "numpy  : 1.26.4\n",
      "\n"
     ]
    }
   ],
   "source": [
    "# Versões dos pacotes usados neste jupyter notebook\n",
    "%reload_ext watermark\n",
    "%watermark -a \"pyPRO - Transformando vidas com o Poder do Código!\" --iversions"
   ]
  },
  {
   "cell_type": "markdown",
   "id": "f47e0619",
   "metadata": {},
   "source": [
    "## Entendendo a Codificação de Caracteres (character encoding)"
   ]
  },
  {
   "cell_type": "markdown",
   "id": "4368e48b",
   "metadata": {},
   "source": [
    "Codificações de caracteres são conjuntos específicos de regras para mapeamento de bytes binários brutos de strings  (que se parecem com isto: 0110100001101001) para caracteres que compõem texto legível por humanos (como \"oi\").\n",
    "\n",
    "Como existem muitas técnicas (ou padrões) diferentes usadas para codificar tais conjuntos de dados binários e se você tentar converter tais dados no texto sem conhecer a técnica de codificação em que foi originalmente escrito, você acabará com o texto embaralhado ou sem sentido. Esse texto embaralhado é chamado de \"mojibake\" (dito como mo-gee-bah-kay). Aqui está um exemplo de mojibake:\n",
    "\n",
    "æ–‡å—åŒ–ã??.\n",
    "\n",
    "Você também pode acabar com caracteres \"desconhecidos\". Isso ocorre quando não há mapeamento entre um byte específico e um caractere na codificação que você está usando para ler sua string de bytes e eles se parecem com isto:\n",
    "\n",
    "����������\n",
    "\n",
    "Incompatibilidades de codificação de caracteres são menos comuns hoje do que costumavam ser, mas definitivamente ainda são um problema. Existem muitas codificações de caracteres diferentes, mas a principal que você precisa conhecer é UTF-8.\n",
    "\n",
    "**UTF-8 é a codificação de texto padrão. Todo o código Python está em UTF-8 e, idealmente, todos os seus dados também devem estar. É quando as coisas não estão em UTF-8 que você tem problemas.**\n",
    "\n",
    "Foi muito difícil lidar com codificações no Python 2, mas felizmente no Python 3 é muito mais simples. Existem dois tipos de dados principais que você encontrará ao trabalhar com texto em Python 3:\n",
    "\n",
    "Uma é a string, que é o texto por padrão. Os outros dados são do tipo de dados bytes, que é uma sequência de números inteiros. \n",
    "\n",
    "Vamos ver um exemplo de uma string:"
   ]
  },
  {
   "cell_type": "code",
   "execution_count": 5,
   "id": "1217311f",
   "metadata": {},
   "outputs": [
    {
     "data": {
      "text/plain": [
       "str"
      ]
     },
     "execution_count": 5,
     "metadata": {},
     "output_type": "execute_result"
    }
   ],
   "source": [
    "# inicialize uma variável com uma string\n",
    "frase = \"Este é o símbolo do Euro: €\"\n",
    "\n",
    "# Verificando o tipo de dado da variável \"frase\"\n",
    "type(frase)"
   ]
  },
  {
   "cell_type": "markdown",
   "id": "822a5c1f",
   "metadata": {},
   "source": [
    "Vamos ver agora o outro tipo de dado: byte"
   ]
  },
  {
   "cell_type": "code",
   "execution_count": 6,
   "id": "814d3a2f",
   "metadata": {},
   "outputs": [
    {
     "data": {
      "text/plain": [
       "bytes"
      ]
     },
     "execution_count": 6,
     "metadata": {},
     "output_type": "execute_result"
    }
   ],
   "source": [
    "# Codificando a frase para uma codificação diferente, substituindo os caracteres que geram erros\n",
    "frase2 = frase.encode(\"utf-8\", errors = \"replace\")\n",
    "\n",
    "# Verificando agora o tipo de dado\n",
    "type(frase2)"
   ]
  },
  {
   "cell_type": "markdown",
   "id": "1653a5c1",
   "metadata": {},
   "source": [
    "Se analisarmos um objeto do tipo bytes, veremos que ele tem um b na frente dele e talvez algum texto depois. \n",
    "\n",
    "Isso ocorre porque os bytes são impressos como se fossem caracteres codificados em ASCII. \n",
    "\n",
    "**ASCII é uma codificação de caracteres mais antiga que realmente não funciona para escrever qualquer idioma além do inglês.**\n",
    "\n",
    "Aqui você pode ver que nosso símbolo do euro e também os caracteres com acentuação (\"é\" e \"í\") foram substituídos por \"mojibakes\" que se parece com \"\\xc3\\xa9\", \"\\xc3\\xad\" e \"\\xe2\\x82\\xac\" quando impressos como se fossem uma string ASCII."
   ]
  },
  {
   "cell_type": "code",
   "execution_count": 7,
   "id": "b8ec2caf",
   "metadata": {},
   "outputs": [
    {
     "data": {
      "text/plain": [
       "b'Este \\xc3\\xa9 o s\\xc3\\xadmbolo do Euro: \\xe2\\x82\\xac'"
      ]
     },
     "execution_count": 7,
     "metadata": {},
     "output_type": "execute_result"
    }
   ],
   "source": [
    "# verificando como os caracteres bytes são representados\n",
    "frase2"
   ]
  },
  {
   "cell_type": "markdown",
   "id": "7cec64db",
   "metadata": {},
   "source": [
    "Quando convertemos nossos bytes de volta em uma string com a codificação correta, podemos ver que nosso texto está correto."
   ]
  },
  {
   "cell_type": "code",
   "execution_count": 8,
   "id": "e52cd370",
   "metadata": {},
   "outputs": [
    {
     "name": "stdout",
     "output_type": "stream",
     "text": [
      "Este é o símbolo do Euro: €\n"
     ]
    }
   ],
   "source": [
    "# convertendo de volta para utf-8\n",
    "print(frase2.decode(\"utf-8\"))"
   ]
  },
  {
   "cell_type": "markdown",
   "id": "7b21c267",
   "metadata": {},
   "source": [
    "No entanto, quando tentamos usar uma codificação diferente para mapear nossos bytes em uma string, obtemos um erro. \n",
    "\n",
    "Isso ocorre porque a codificação que estamos tentando usar não sabe o que fazer com os bytes que estamos tentando passar. \n",
    "\n",
    "Você precisa informar ao Python a codificação em que a string de bytes realmente deveria estar.\n",
    "\n",
    "Você pode pensar em diferentes codificações como diferentes formas de gravar música. Você pode gravar a mesma música em um CD, fita cassete ou 8 faixas. Embora a música possa soar mais ou menos igual, você precisa usar o equipamento certo para reproduzir a música de cada formato de gravação. O decodificador correto é como um toca-fitas ou um toca-CD. Se você tentar reproduzir uma fita cassete em um CD player, simplesmente não funcionará."
   ]
  },
  {
   "cell_type": "code",
   "execution_count": 9,
   "id": "383b8be8",
   "metadata": {},
   "outputs": [
    {
     "ename": "UnicodeDecodeError",
     "evalue": "'ascii' codec can't decode byte 0xc3 in position 5: ordinal not in range(128)",
     "output_type": "error",
     "traceback": [
      "\u001b[1;31m---------------------------------------------------------------------------\u001b[0m",
      "\u001b[1;31mUnicodeDecodeError\u001b[0m                        Traceback (most recent call last)",
      "Cell \u001b[1;32mIn[9], line 2\u001b[0m\n\u001b[0;32m      1\u001b[0m \u001b[38;5;66;03m# tentando codificar nossa string de bytes para a codificação ascii\u001b[39;00m\n\u001b[1;32m----> 2\u001b[0m \u001b[38;5;28mprint\u001b[39m(frase2\u001b[38;5;241m.\u001b[39mdecode(\u001b[38;5;124m\"\u001b[39m\u001b[38;5;124mascii\u001b[39m\u001b[38;5;124m\"\u001b[39m))\n",
      "\u001b[1;31mUnicodeDecodeError\u001b[0m: 'ascii' codec can't decode byte 0xc3 in position 5: ordinal not in range(128)"
     ]
    }
   ],
   "source": [
    "# tentando codificar nossa string de bytes para a codificação ascii\n",
    "print(frase2.decode(\"ascii\"))"
   ]
  },
  {
   "cell_type": "markdown",
   "id": "01e5ac2c",
   "metadata": {},
   "source": [
    "Também podemos ter problemas se tentarmos usar a codificação errada para mapear uma string para bytes. \n",
    "\n",
    "Como já foi mencionado, as strings são UTF-8 por padrão no Python 3, portanto, se tentarmos tratá-las como se estivessem em outra codificação, criaremos problemas.\n",
    "\n",
    "Por exemplo, se tentarmos converter uma string em bytes para ascii usando encode(), podemos pedir que os bytes sejam o que seriam se o texto estivesse em ASCII. Como nosso texto não está em ASCII, haverá alguns caracteres que ele não pode manipular. Podemos substituir automaticamente os caracteres que o ASCII não suporta. Se fizermos isso, no entanto, quaisquer caracteres que não estejam em ASCII serão substituídos apenas pelo caractere desconhecido. Então, quando convertermos os bytes de volta para uma string, o caractere será substituído pelo caractere desconhecido. A parte perigosa disso é que não há como saber qual caracter deveria ser. Isso significa que podemos ter tornado nossos dados inutilizáveis!"
   ]
  },
  {
   "cell_type": "code",
   "execution_count": 10,
   "id": "c71d9ce5",
   "metadata": {},
   "outputs": [
    {
     "name": "stdout",
     "output_type": "stream",
     "text": [
      "Este ? o s?mbolo do Euro: ?\n"
     ]
    }
   ],
   "source": [
    "# declarando novamente a frase...\n",
    "frase = \"Este é o símbolo do Euro: €\"\n",
    "\n",
    "# Codificando a frase para uma codificação diferente, substituindo os caracteres que geram erros\n",
    "frase2 = frase.encode(\"ascii\", errors = \"replace\")\n",
    "\n",
    "# Convertendo a frase de volta\n",
    "print(frase2.decode(\"ascii\"))\n",
    "\n",
    "# Perdemos a cadeia de bytes subjacente original! \n",
    "# Ela foi substituída pela cadeia de bytes subjacente para o caractere desconhecido!"
   ]
  },
  {
   "cell_type": "markdown",
   "id": "b61adc73",
   "metadata": {},
   "source": [
    "Isso é ruim e como analista de dados você deve evitar fazê-lo! \n",
    "\n",
    "É muito melhor converter todo o nosso texto para UTF-8 o mais rápido possível e mantê-lo nessa codificação. O melhor momento para converter entrada não UTF-8 em UTF-8 é quando você lê os arquivos.\n",
    "\n",
    "A maioria dos conjuntos de dados (datasets) provavelmente será codificada com UTF-8. \n",
    "\n",
    "Isso é o que o Python espera por padrão, portanto, na maioria das vezes, você não terá problemas. No entanto, às vezes você receberá um erro como este: \n",
    "\n",
    "*UnicodeDecodeError: o codec 'utf-8' não pode decodificar o byte 0x99 na posição 11: byte inicial inválido*"
   ]
  },
  {
   "cell_type": "markdown",
   "id": "363f95c4",
   "metadata": {},
   "source": [
    "## Carregando os Dados com Problemas de Codificação"
   ]
  },
  {
   "cell_type": "markdown",
   "id": "4bf72b2a",
   "metadata": {},
   "source": [
    "### Dataset público: *Kickstarter Projects*\n",
    "\n",
    "Vamos trabalhar com o Dataset do Kickstarter Projects. Vamos pegar uma versão do dataset que corresponde aos dados desde 2016.\n",
    "\n",
    "Link para o Dataset: https://www.kaggle.com/code/rtatman/data-cleaning-challenge-character-encodings/input?select=ks-projects-201612.csv\n",
    "Fonte: Kaggle.com"
   ]
  },
  {
   "cell_type": "code",
   "execution_count": 11,
   "id": "bc9c6141",
   "metadata": {},
   "outputs": [],
   "source": [
    "# Criamos uma lista para identificar valores ausentes\n",
    "lista_labels_valores_ausentes = [\"n/a\", \"na\", \"undefined\"]"
   ]
  },
  {
   "cell_type": "code",
   "execution_count": 12,
   "id": "5df4df08",
   "metadata": {},
   "outputs": [
    {
     "ename": "UnicodeDecodeError",
     "evalue": "'utf-8' codec can't decode byte 0x99 in position 7955: invalid start byte",
     "output_type": "error",
     "traceback": [
      "\u001b[1;31m---------------------------------------------------------------------------\u001b[0m",
      "\u001b[1;31mUnicodeDecodeError\u001b[0m                        Traceback (most recent call last)",
      "Cell \u001b[1;32mIn[12], line 2\u001b[0m\n\u001b[0;32m      1\u001b[0m \u001b[38;5;66;03m# Tentando carregar o dataset com codificação diferente de UTF-8\u001b[39;00m\n\u001b[1;32m----> 2\u001b[0m dataset \u001b[38;5;241m=\u001b[39m pd\u001b[38;5;241m.\u001b[39mread_csv(\u001b[38;5;124m\"\u001b[39m\u001b[38;5;124mks-projects-201612.csv\u001b[39m\u001b[38;5;124m\"\u001b[39m, na_values \u001b[38;5;241m=\u001b[39m lista_labels_valores_ausentes)\n",
      "File \u001b[1;32m~\\anaconda3\\Lib\\site-packages\\pandas\\io\\parsers\\readers.py:1026\u001b[0m, in \u001b[0;36mread_csv\u001b[1;34m(filepath_or_buffer, sep, delimiter, header, names, index_col, usecols, dtype, engine, converters, true_values, false_values, skipinitialspace, skiprows, skipfooter, nrows, na_values, keep_default_na, na_filter, verbose, skip_blank_lines, parse_dates, infer_datetime_format, keep_date_col, date_parser, date_format, dayfirst, cache_dates, iterator, chunksize, compression, thousands, decimal, lineterminator, quotechar, quoting, doublequote, escapechar, comment, encoding, encoding_errors, dialect, on_bad_lines, delim_whitespace, low_memory, memory_map, float_precision, storage_options, dtype_backend)\u001b[0m\n\u001b[0;32m   1013\u001b[0m kwds_defaults \u001b[38;5;241m=\u001b[39m _refine_defaults_read(\n\u001b[0;32m   1014\u001b[0m     dialect,\n\u001b[0;32m   1015\u001b[0m     delimiter,\n\u001b[1;32m   (...)\u001b[0m\n\u001b[0;32m   1022\u001b[0m     dtype_backend\u001b[38;5;241m=\u001b[39mdtype_backend,\n\u001b[0;32m   1023\u001b[0m )\n\u001b[0;32m   1024\u001b[0m kwds\u001b[38;5;241m.\u001b[39mupdate(kwds_defaults)\n\u001b[1;32m-> 1026\u001b[0m \u001b[38;5;28;01mreturn\u001b[39;00m _read(filepath_or_buffer, kwds)\n",
      "File \u001b[1;32m~\\anaconda3\\Lib\\site-packages\\pandas\\io\\parsers\\readers.py:620\u001b[0m, in \u001b[0;36m_read\u001b[1;34m(filepath_or_buffer, kwds)\u001b[0m\n\u001b[0;32m    617\u001b[0m _validate_names(kwds\u001b[38;5;241m.\u001b[39mget(\u001b[38;5;124m\"\u001b[39m\u001b[38;5;124mnames\u001b[39m\u001b[38;5;124m\"\u001b[39m, \u001b[38;5;28;01mNone\u001b[39;00m))\n\u001b[0;32m    619\u001b[0m \u001b[38;5;66;03m# Create the parser.\u001b[39;00m\n\u001b[1;32m--> 620\u001b[0m parser \u001b[38;5;241m=\u001b[39m TextFileReader(filepath_or_buffer, \u001b[38;5;241m*\u001b[39m\u001b[38;5;241m*\u001b[39mkwds)\n\u001b[0;32m    622\u001b[0m \u001b[38;5;28;01mif\u001b[39;00m chunksize \u001b[38;5;129;01mor\u001b[39;00m iterator:\n\u001b[0;32m    623\u001b[0m     \u001b[38;5;28;01mreturn\u001b[39;00m parser\n",
      "File \u001b[1;32m~\\anaconda3\\Lib\\site-packages\\pandas\\io\\parsers\\readers.py:1620\u001b[0m, in \u001b[0;36mTextFileReader.__init__\u001b[1;34m(self, f, engine, **kwds)\u001b[0m\n\u001b[0;32m   1617\u001b[0m     \u001b[38;5;28mself\u001b[39m\u001b[38;5;241m.\u001b[39moptions[\u001b[38;5;124m\"\u001b[39m\u001b[38;5;124mhas_index_names\u001b[39m\u001b[38;5;124m\"\u001b[39m] \u001b[38;5;241m=\u001b[39m kwds[\u001b[38;5;124m\"\u001b[39m\u001b[38;5;124mhas_index_names\u001b[39m\u001b[38;5;124m\"\u001b[39m]\n\u001b[0;32m   1619\u001b[0m \u001b[38;5;28mself\u001b[39m\u001b[38;5;241m.\u001b[39mhandles: IOHandles \u001b[38;5;241m|\u001b[39m \u001b[38;5;28;01mNone\u001b[39;00m \u001b[38;5;241m=\u001b[39m \u001b[38;5;28;01mNone\u001b[39;00m\n\u001b[1;32m-> 1620\u001b[0m \u001b[38;5;28mself\u001b[39m\u001b[38;5;241m.\u001b[39m_engine \u001b[38;5;241m=\u001b[39m \u001b[38;5;28mself\u001b[39m\u001b[38;5;241m.\u001b[39m_make_engine(f, \u001b[38;5;28mself\u001b[39m\u001b[38;5;241m.\u001b[39mengine)\n",
      "File \u001b[1;32m~\\anaconda3\\Lib\\site-packages\\pandas\\io\\parsers\\readers.py:1898\u001b[0m, in \u001b[0;36mTextFileReader._make_engine\u001b[1;34m(self, f, engine)\u001b[0m\n\u001b[0;32m   1895\u001b[0m     \u001b[38;5;28;01mraise\u001b[39;00m \u001b[38;5;167;01mValueError\u001b[39;00m(msg)\n\u001b[0;32m   1897\u001b[0m \u001b[38;5;28;01mtry\u001b[39;00m:\n\u001b[1;32m-> 1898\u001b[0m     \u001b[38;5;28;01mreturn\u001b[39;00m mapping[engine](f, \u001b[38;5;241m*\u001b[39m\u001b[38;5;241m*\u001b[39m\u001b[38;5;28mself\u001b[39m\u001b[38;5;241m.\u001b[39moptions)\n\u001b[0;32m   1899\u001b[0m \u001b[38;5;28;01mexcept\u001b[39;00m \u001b[38;5;167;01mException\u001b[39;00m:\n\u001b[0;32m   1900\u001b[0m     \u001b[38;5;28;01mif\u001b[39;00m \u001b[38;5;28mself\u001b[39m\u001b[38;5;241m.\u001b[39mhandles \u001b[38;5;129;01mis\u001b[39;00m \u001b[38;5;129;01mnot\u001b[39;00m \u001b[38;5;28;01mNone\u001b[39;00m:\n",
      "File \u001b[1;32m~\\anaconda3\\Lib\\site-packages\\pandas\\io\\parsers\\c_parser_wrapper.py:93\u001b[0m, in \u001b[0;36mCParserWrapper.__init__\u001b[1;34m(self, src, **kwds)\u001b[0m\n\u001b[0;32m     90\u001b[0m \u001b[38;5;28;01mif\u001b[39;00m kwds[\u001b[38;5;124m\"\u001b[39m\u001b[38;5;124mdtype_backend\u001b[39m\u001b[38;5;124m\"\u001b[39m] \u001b[38;5;241m==\u001b[39m \u001b[38;5;124m\"\u001b[39m\u001b[38;5;124mpyarrow\u001b[39m\u001b[38;5;124m\"\u001b[39m:\n\u001b[0;32m     91\u001b[0m     \u001b[38;5;66;03m# Fail here loudly instead of in cython after reading\u001b[39;00m\n\u001b[0;32m     92\u001b[0m     import_optional_dependency(\u001b[38;5;124m\"\u001b[39m\u001b[38;5;124mpyarrow\u001b[39m\u001b[38;5;124m\"\u001b[39m)\n\u001b[1;32m---> 93\u001b[0m \u001b[38;5;28mself\u001b[39m\u001b[38;5;241m.\u001b[39m_reader \u001b[38;5;241m=\u001b[39m parsers\u001b[38;5;241m.\u001b[39mTextReader(src, \u001b[38;5;241m*\u001b[39m\u001b[38;5;241m*\u001b[39mkwds)\n\u001b[0;32m     95\u001b[0m \u001b[38;5;28mself\u001b[39m\u001b[38;5;241m.\u001b[39munnamed_cols \u001b[38;5;241m=\u001b[39m \u001b[38;5;28mself\u001b[39m\u001b[38;5;241m.\u001b[39m_reader\u001b[38;5;241m.\u001b[39munnamed_cols\n\u001b[0;32m     97\u001b[0m \u001b[38;5;66;03m# error: Cannot determine type of 'names'\u001b[39;00m\n",
      "File \u001b[1;32mparsers.pyx:574\u001b[0m, in \u001b[0;36mpandas._libs.parsers.TextReader.__cinit__\u001b[1;34m()\u001b[0m\n",
      "File \u001b[1;32mparsers.pyx:663\u001b[0m, in \u001b[0;36mpandas._libs.parsers.TextReader._get_header\u001b[1;34m()\u001b[0m\n",
      "File \u001b[1;32mparsers.pyx:874\u001b[0m, in \u001b[0;36mpandas._libs.parsers.TextReader._tokenize_rows\u001b[1;34m()\u001b[0m\n",
      "File \u001b[1;32mparsers.pyx:891\u001b[0m, in \u001b[0;36mpandas._libs.parsers.TextReader._check_tokenize_status\u001b[1;34m()\u001b[0m\n",
      "File \u001b[1;32mparsers.pyx:2053\u001b[0m, in \u001b[0;36mpandas._libs.parsers.raise_parser_error\u001b[1;34m()\u001b[0m\n",
      "\u001b[1;31mUnicodeDecodeError\u001b[0m: 'utf-8' codec can't decode byte 0x99 in position 7955: invalid start byte"
     ]
    }
   ],
   "source": [
    "# Tentando carregar o dataset com codificação diferente de UTF-8\n",
    "dataset = pd.read_csv(\"ks-projects-201612.csv\", na_values = lista_labels_valores_ausentes)"
   ]
  },
  {
   "cell_type": "markdown",
   "id": "fc0b2fc2",
   "metadata": {},
   "source": [
    "Observe que obtemos o mesmo *UnicodeDecodeError* que obtivemos quando tentamos decodificar bytes UTF-8 como se fossem ASCII! \n",
    "\n",
    "Isso nos diz que esse arquivo não é realmente UTF-8. Não sabemos qual codificação realmente é. Uma maneira de descobrir isso é tentar testar várias codificações de caracteres diferentes e ver se alguma delas funciona. \n",
    "\n",
    "Uma maneira melhor, porém, é usar o **módulo chardet** para tentar descobrir automaticamente qual é a codificação correta. \n",
    "\n",
    "Não é 100% garantido que esteja certo, mas geralmente é mais rápido do que apenas tentar adivinhar.\n",
    "\n",
    "Vou apenas olhar para os primeiros dez mil bytes deste arquivo. Isso geralmente é suficiente para um bom palpite sobre qual é a codificação e é muito mais rápido do que tentar examinar o arquivo inteiro. \n",
    "\n",
    "(Especialmente com um arquivo grande, isso pode ser muito lento.) \n",
    "\n",
    "Outro motivo para examinar apenas a primeira parte do arquivo é que podemos ver, observando a mensagem de erro, que o primeiro problema é o 11º caractere. Portanto, provavelmente só precisamos olhar para a primeira parte do arquivo para descobrir o que está acontecendo."
   ]
  },
  {
   "cell_type": "code",
   "execution_count": 13,
   "id": "045ef1b8",
   "metadata": {},
   "outputs": [
    {
     "name": "stdout",
     "output_type": "stream",
     "text": [
      "{'encoding': 'Windows-1252', 'confidence': 0.73, 'language': ''}\n"
     ]
    }
   ],
   "source": [
    "# Olhando os primeiros 10 mil bytes para tentar determinar a codificação\n",
    "with open(\"ks-projects-201612.csv\", 'rb') as dados:\n",
    "    resultado = chardet.detect(dados.read(10000))\n",
    "\n",
    "# Verificando qual é a codificação de caracteres que foi determinada pelo método detect\n",
    "print(resultado)"
   ]
  },
  {
   "cell_type": "markdown",
   "id": "d0f1ed73",
   "metadata": {},
   "source": [
    "Como pode ser observado, o grau de confiança que o método detect do pacote chardet retornou é de 73% que seja a codificação \"Windows-1252\".\n",
    "\n",
    "Portanto, se abrirmos o arquivo agora com essa codificação, teremos uma maior garantia que dê certo. Vamos ver:"
   ]
  },
  {
   "cell_type": "code",
   "execution_count": 14,
   "id": "7e6d1860",
   "metadata": {
    "scrolled": true
   },
   "outputs": [
    {
     "data": {
      "text/html": [
       "<div>\n",
       "<style scoped>\n",
       "    .dataframe tbody tr th:only-of-type {\n",
       "        vertical-align: middle;\n",
       "    }\n",
       "\n",
       "    .dataframe tbody tr th {\n",
       "        vertical-align: top;\n",
       "    }\n",
       "\n",
       "    .dataframe thead th {\n",
       "        text-align: right;\n",
       "    }\n",
       "</style>\n",
       "<table border=\"1\" class=\"dataframe\">\n",
       "  <thead>\n",
       "    <tr style=\"text-align: right;\">\n",
       "      <th></th>\n",
       "      <th>ID</th>\n",
       "      <th>name</th>\n",
       "      <th>category</th>\n",
       "      <th>main_category</th>\n",
       "      <th>currency</th>\n",
       "      <th>deadline</th>\n",
       "      <th>goal</th>\n",
       "      <th>launched</th>\n",
       "      <th>pledged</th>\n",
       "      <th>state</th>\n",
       "      <th>backers</th>\n",
       "      <th>country</th>\n",
       "      <th>usd pledged</th>\n",
       "      <th>Unnamed: 13</th>\n",
       "      <th>Unnamed: 14</th>\n",
       "      <th>Unnamed: 15</th>\n",
       "      <th>Unnamed: 16</th>\n",
       "    </tr>\n",
       "  </thead>\n",
       "  <tbody>\n",
       "    <tr>\n",
       "      <th>0</th>\n",
       "      <td>1000002330</td>\n",
       "      <td>The Songs of Adelaide &amp; Abullah</td>\n",
       "      <td>Poetry</td>\n",
       "      <td>Publishing</td>\n",
       "      <td>GBP</td>\n",
       "      <td>2015-10-09 11:36:00</td>\n",
       "      <td>1000</td>\n",
       "      <td>2015-08-11 12:12:28</td>\n",
       "      <td>0</td>\n",
       "      <td>failed</td>\n",
       "      <td>0</td>\n",
       "      <td>GB</td>\n",
       "      <td>0</td>\n",
       "      <td>NaN</td>\n",
       "      <td>NaN</td>\n",
       "      <td>NaN</td>\n",
       "      <td>NaN</td>\n",
       "    </tr>\n",
       "    <tr>\n",
       "      <th>1</th>\n",
       "      <td>1000004038</td>\n",
       "      <td>Where is Hank?</td>\n",
       "      <td>Narrative Film</td>\n",
       "      <td>Film &amp; Video</td>\n",
       "      <td>USD</td>\n",
       "      <td>2013-02-26 00:20:50</td>\n",
       "      <td>45000</td>\n",
       "      <td>2013-01-12 00:20:50</td>\n",
       "      <td>220</td>\n",
       "      <td>failed</td>\n",
       "      <td>3</td>\n",
       "      <td>US</td>\n",
       "      <td>220</td>\n",
       "      <td>NaN</td>\n",
       "      <td>NaN</td>\n",
       "      <td>NaN</td>\n",
       "      <td>NaN</td>\n",
       "    </tr>\n",
       "    <tr>\n",
       "      <th>2</th>\n",
       "      <td>1000007540</td>\n",
       "      <td>ToshiCapital Rekordz Needs Help to Complete Album</td>\n",
       "      <td>Music</td>\n",
       "      <td>Music</td>\n",
       "      <td>USD</td>\n",
       "      <td>2012-04-16 04:24:11</td>\n",
       "      <td>5000</td>\n",
       "      <td>2012-03-17 03:24:11</td>\n",
       "      <td>1</td>\n",
       "      <td>failed</td>\n",
       "      <td>1</td>\n",
       "      <td>US</td>\n",
       "      <td>1</td>\n",
       "      <td>NaN</td>\n",
       "      <td>NaN</td>\n",
       "      <td>NaN</td>\n",
       "      <td>NaN</td>\n",
       "    </tr>\n",
       "    <tr>\n",
       "      <th>3</th>\n",
       "      <td>1000011046</td>\n",
       "      <td>Community Film Project: The Art of Neighborhoo...</td>\n",
       "      <td>Film &amp; Video</td>\n",
       "      <td>Film &amp; Video</td>\n",
       "      <td>USD</td>\n",
       "      <td>2015-08-29 01:00:00</td>\n",
       "      <td>19500</td>\n",
       "      <td>2015-07-04 08:35:03</td>\n",
       "      <td>1283</td>\n",
       "      <td>canceled</td>\n",
       "      <td>14</td>\n",
       "      <td>US</td>\n",
       "      <td>1283</td>\n",
       "      <td>NaN</td>\n",
       "      <td>NaN</td>\n",
       "      <td>NaN</td>\n",
       "      <td>NaN</td>\n",
       "    </tr>\n",
       "    <tr>\n",
       "      <th>4</th>\n",
       "      <td>1000014025</td>\n",
       "      <td>Monarch Espresso Bar</td>\n",
       "      <td>Restaurants</td>\n",
       "      <td>Food</td>\n",
       "      <td>USD</td>\n",
       "      <td>2016-04-01 13:38:27</td>\n",
       "      <td>50000</td>\n",
       "      <td>2016-02-26 13:38:27</td>\n",
       "      <td>52375</td>\n",
       "      <td>successful</td>\n",
       "      <td>224</td>\n",
       "      <td>US</td>\n",
       "      <td>52375</td>\n",
       "      <td>NaN</td>\n",
       "      <td>NaN</td>\n",
       "      <td>NaN</td>\n",
       "      <td>NaN</td>\n",
       "    </tr>\n",
       "  </tbody>\n",
       "</table>\n",
       "</div>"
      ],
      "text/plain": [
       "          ID                                               name   \\\n",
       "0  1000002330                    The Songs of Adelaide & Abullah   \n",
       "1  1000004038                                     Where is Hank?   \n",
       "2  1000007540  ToshiCapital Rekordz Needs Help to Complete Album   \n",
       "3  1000011046  Community Film Project: The Art of Neighborhoo...   \n",
       "4  1000014025                               Monarch Espresso Bar   \n",
       "\n",
       "        category  main_category  currency             deadline   goal   \\\n",
       "0          Poetry     Publishing       GBP  2015-10-09 11:36:00   1000   \n",
       "1  Narrative Film   Film & Video       USD  2013-02-26 00:20:50  45000   \n",
       "2           Music          Music       USD  2012-04-16 04:24:11   5000   \n",
       "3    Film & Video   Film & Video       USD  2015-08-29 01:00:00  19500   \n",
       "4     Restaurants           Food       USD  2016-04-01 13:38:27  50000   \n",
       "\n",
       "             launched  pledged       state  backers  country  usd pledged   \\\n",
       "0  2015-08-11 12:12:28        0      failed        0       GB            0   \n",
       "1  2013-01-12 00:20:50      220      failed        3       US          220   \n",
       "2  2012-03-17 03:24:11        1      failed        1       US            1   \n",
       "3  2015-07-04 08:35:03     1283    canceled       14       US         1283   \n",
       "4  2016-02-26 13:38:27    52375  successful      224       US        52375   \n",
       "\n",
       "  Unnamed: 13 Unnamed: 14 Unnamed: 15  Unnamed: 16  \n",
       "0         NaN         NaN         NaN          NaN  \n",
       "1         NaN         NaN         NaN          NaN  \n",
       "2         NaN         NaN         NaN          NaN  \n",
       "3         NaN         NaN         NaN          NaN  \n",
       "4         NaN         NaN         NaN          NaN  "
      ]
     },
     "execution_count": 14,
     "metadata": {},
     "output_type": "execute_result"
    }
   ],
   "source": [
    "# Lendo o mesmo arquivo agora definindo que a codificação a ser utilizada é a \"Windows-1252\"\n",
    "dataset = pd.read_csv(\"ks-projects-201612.csv\", na_values = lista_labels_valores_ausentes, encoding='Windows-1252', low_memory=False)\n",
    "\n",
    "# Olhando as primeiras linhas do dataset que agora foi carregado sem erro...\n",
    "dataset.head()"
   ]
  },
  {
   "cell_type": "markdown",
   "id": "cebed50e",
   "metadata": {},
   "source": [
    "Agora sim!!  Parece que chardet estava certo! \n",
    "\n",
    "O arquivo é lido sem problemas (embora recebamos um aviso sobre tipos de dados) e, quando olhamos para as primeiras linhas, parece estar tudo bem.\n",
    "\n",
    "E se a codificação indicada pelo chardet não estiver certa? \n",
    "\n",
    "Como o chardet é basicamente apenas um \"adivinho\" sofisticado, às vezes ele adivinhará a codificação errada. \n",
    "\n",
    "Uma coisa que você pode tentar é olhar mais ou menos do arquivo e ver se obtém um resultado diferente e depois tentar."
   ]
  },
  {
   "cell_type": "markdown",
   "id": "2dc51b9f",
   "metadata": {},
   "source": [
    "## Carregando outro Dataset ==> Agora sim trabalhando o Projeto 4"
   ]
  },
  {
   "cell_type": "markdown",
   "id": "d0e44fe1",
   "metadata": {},
   "source": [
    "### Dataset público: *Fatal Police Shootings in the US*\n",
    "\n",
    "O assassinato de Michael Brown em 2014 em Ferguson, Missouri, deu início ao movimento de protesto que culminou no Black Lives Matter e um foco maior na responsabilidade policial em todo o país (Estados Unidos).\n",
    "\n",
    "Desde 1º de janeiro de 2015, o **The Washington Post** vem compilando um banco de dados de todos os tiroteios fatais cometidos por policiais no cumprimento do dever nos EUA.\n",
    "\n",
    "É difícil encontrar dados confiáveis anteriores a esse período, pois as mortes cometidas pela polícia não foram documentadas de forma abrangente e as estatísticas sobre a brutalidade policial estão muito menos disponíveis. Como resultado, um grande número de casos não são notificados.\n",
    "\n",
    "O Washington Post está rastreando mais de uma dúzia de detalhes sobre cada assassinato - incluindo a raça, idade e sexo do falecido, se a pessoa estava armada e se a vítima estava passando por uma crise de saúde mental. Eles coletaram essas informações de sites de aplicação da lei, novos relatórios locais, mídia social e monitorando bancos de dados independentes, como \"Morto pela polícia\" e \"Encontros fatais\". O Washington Post também realizou relatórios adicionais em muitos casos.\n",
    "\n",
    "Existem quatro conjuntos de dados adicionais. Estes são dados do censo dos EUA sobre taxa de pobreza, taxa de conclusão do ensino médio, renda familiar média e demografia racial.\n",
    "\n",
    "Fonte dos dados do censo:\n",
    "https://factfinder.census.gov/faces/nav/jsf/pages/community_facts.xhtml\n",
    "\n",
    "Vamos trabalhar com o dataset \"Mortes por Policiais nos Estados Unidos\". \n",
    "Link para o Dataset: https://www.kaggle.com/code/rtatman/data-cleaning-challenge-character-encodings/input?select=PoliceKillingsUS.csv\n",
    "Fonte: Kaggle.com"
   ]
  },
  {
   "cell_type": "markdown",
   "id": "4b88de3a-a2ba-43a1-a9dd-1748b20d0283",
   "metadata": {},
   "source": [
    "## Passo 1: Corrigir a Codificação de Caracteres e Carregar o DataSet"
   ]
  },
  {
   "cell_type": "code",
   "execution_count": 15,
   "id": "c32b0607-4cf7-4292-9429-9beb80796a81",
   "metadata": {},
   "outputs": [],
   "source": [
    "# Carregando as Bibliotecas que faltam...\n",
    "import matplotlib.pyplot as plt\n",
    "import seaborn as sns"
   ]
  },
  {
   "cell_type": "code",
   "execution_count": 16,
   "id": "1e6420ec",
   "metadata": {},
   "outputs": [],
   "source": [
    "# Criamos uma lista para identificar valores ausentes\n",
    "lista_labels_valores_ausentes = [\"n/a\", \"na\", \"undefined\"]"
   ]
  },
  {
   "cell_type": "code",
   "execution_count": 17,
   "id": "d834d1a5",
   "metadata": {},
   "outputs": [
    {
     "ename": "UnicodeDecodeError",
     "evalue": "'utf-8' codec can't decode byte 0x96 in position 25272: invalid start byte",
     "output_type": "error",
     "traceback": [
      "\u001b[1;31m---------------------------------------------------------------------------\u001b[0m",
      "\u001b[1;31mUnicodeDecodeError\u001b[0m                        Traceback (most recent call last)",
      "Cell \u001b[1;32mIn[17], line 2\u001b[0m\n\u001b[0;32m      1\u001b[0m \u001b[38;5;66;03m# Tentando carregar o dataset com codificação diferente de UTF-8\u001b[39;00m\n\u001b[1;32m----> 2\u001b[0m dataset \u001b[38;5;241m=\u001b[39m pd\u001b[38;5;241m.\u001b[39mread_csv(\u001b[38;5;124m\"\u001b[39m\u001b[38;5;124mPoliceKillingsUS.csv\u001b[39m\u001b[38;5;124m\"\u001b[39m, na_values \u001b[38;5;241m=\u001b[39m lista_labels_valores_ausentes)\n",
      "File \u001b[1;32m~\\anaconda3\\Lib\\site-packages\\pandas\\io\\parsers\\readers.py:1026\u001b[0m, in \u001b[0;36mread_csv\u001b[1;34m(filepath_or_buffer, sep, delimiter, header, names, index_col, usecols, dtype, engine, converters, true_values, false_values, skipinitialspace, skiprows, skipfooter, nrows, na_values, keep_default_na, na_filter, verbose, skip_blank_lines, parse_dates, infer_datetime_format, keep_date_col, date_parser, date_format, dayfirst, cache_dates, iterator, chunksize, compression, thousands, decimal, lineterminator, quotechar, quoting, doublequote, escapechar, comment, encoding, encoding_errors, dialect, on_bad_lines, delim_whitespace, low_memory, memory_map, float_precision, storage_options, dtype_backend)\u001b[0m\n\u001b[0;32m   1013\u001b[0m kwds_defaults \u001b[38;5;241m=\u001b[39m _refine_defaults_read(\n\u001b[0;32m   1014\u001b[0m     dialect,\n\u001b[0;32m   1015\u001b[0m     delimiter,\n\u001b[1;32m   (...)\u001b[0m\n\u001b[0;32m   1022\u001b[0m     dtype_backend\u001b[38;5;241m=\u001b[39mdtype_backend,\n\u001b[0;32m   1023\u001b[0m )\n\u001b[0;32m   1024\u001b[0m kwds\u001b[38;5;241m.\u001b[39mupdate(kwds_defaults)\n\u001b[1;32m-> 1026\u001b[0m \u001b[38;5;28;01mreturn\u001b[39;00m _read(filepath_or_buffer, kwds)\n",
      "File \u001b[1;32m~\\anaconda3\\Lib\\site-packages\\pandas\\io\\parsers\\readers.py:620\u001b[0m, in \u001b[0;36m_read\u001b[1;34m(filepath_or_buffer, kwds)\u001b[0m\n\u001b[0;32m    617\u001b[0m _validate_names(kwds\u001b[38;5;241m.\u001b[39mget(\u001b[38;5;124m\"\u001b[39m\u001b[38;5;124mnames\u001b[39m\u001b[38;5;124m\"\u001b[39m, \u001b[38;5;28;01mNone\u001b[39;00m))\n\u001b[0;32m    619\u001b[0m \u001b[38;5;66;03m# Create the parser.\u001b[39;00m\n\u001b[1;32m--> 620\u001b[0m parser \u001b[38;5;241m=\u001b[39m TextFileReader(filepath_or_buffer, \u001b[38;5;241m*\u001b[39m\u001b[38;5;241m*\u001b[39mkwds)\n\u001b[0;32m    622\u001b[0m \u001b[38;5;28;01mif\u001b[39;00m chunksize \u001b[38;5;129;01mor\u001b[39;00m iterator:\n\u001b[0;32m    623\u001b[0m     \u001b[38;5;28;01mreturn\u001b[39;00m parser\n",
      "File \u001b[1;32m~\\anaconda3\\Lib\\site-packages\\pandas\\io\\parsers\\readers.py:1620\u001b[0m, in \u001b[0;36mTextFileReader.__init__\u001b[1;34m(self, f, engine, **kwds)\u001b[0m\n\u001b[0;32m   1617\u001b[0m     \u001b[38;5;28mself\u001b[39m\u001b[38;5;241m.\u001b[39moptions[\u001b[38;5;124m\"\u001b[39m\u001b[38;5;124mhas_index_names\u001b[39m\u001b[38;5;124m\"\u001b[39m] \u001b[38;5;241m=\u001b[39m kwds[\u001b[38;5;124m\"\u001b[39m\u001b[38;5;124mhas_index_names\u001b[39m\u001b[38;5;124m\"\u001b[39m]\n\u001b[0;32m   1619\u001b[0m \u001b[38;5;28mself\u001b[39m\u001b[38;5;241m.\u001b[39mhandles: IOHandles \u001b[38;5;241m|\u001b[39m \u001b[38;5;28;01mNone\u001b[39;00m \u001b[38;5;241m=\u001b[39m \u001b[38;5;28;01mNone\u001b[39;00m\n\u001b[1;32m-> 1620\u001b[0m \u001b[38;5;28mself\u001b[39m\u001b[38;5;241m.\u001b[39m_engine \u001b[38;5;241m=\u001b[39m \u001b[38;5;28mself\u001b[39m\u001b[38;5;241m.\u001b[39m_make_engine(f, \u001b[38;5;28mself\u001b[39m\u001b[38;5;241m.\u001b[39mengine)\n",
      "File \u001b[1;32m~\\anaconda3\\Lib\\site-packages\\pandas\\io\\parsers\\readers.py:1898\u001b[0m, in \u001b[0;36mTextFileReader._make_engine\u001b[1;34m(self, f, engine)\u001b[0m\n\u001b[0;32m   1895\u001b[0m     \u001b[38;5;28;01mraise\u001b[39;00m \u001b[38;5;167;01mValueError\u001b[39;00m(msg)\n\u001b[0;32m   1897\u001b[0m \u001b[38;5;28;01mtry\u001b[39;00m:\n\u001b[1;32m-> 1898\u001b[0m     \u001b[38;5;28;01mreturn\u001b[39;00m mapping[engine](f, \u001b[38;5;241m*\u001b[39m\u001b[38;5;241m*\u001b[39m\u001b[38;5;28mself\u001b[39m\u001b[38;5;241m.\u001b[39moptions)\n\u001b[0;32m   1899\u001b[0m \u001b[38;5;28;01mexcept\u001b[39;00m \u001b[38;5;167;01mException\u001b[39;00m:\n\u001b[0;32m   1900\u001b[0m     \u001b[38;5;28;01mif\u001b[39;00m \u001b[38;5;28mself\u001b[39m\u001b[38;5;241m.\u001b[39mhandles \u001b[38;5;129;01mis\u001b[39;00m \u001b[38;5;129;01mnot\u001b[39;00m \u001b[38;5;28;01mNone\u001b[39;00m:\n",
      "File \u001b[1;32m~\\anaconda3\\Lib\\site-packages\\pandas\\io\\parsers\\c_parser_wrapper.py:93\u001b[0m, in \u001b[0;36mCParserWrapper.__init__\u001b[1;34m(self, src, **kwds)\u001b[0m\n\u001b[0;32m     90\u001b[0m \u001b[38;5;28;01mif\u001b[39;00m kwds[\u001b[38;5;124m\"\u001b[39m\u001b[38;5;124mdtype_backend\u001b[39m\u001b[38;5;124m\"\u001b[39m] \u001b[38;5;241m==\u001b[39m \u001b[38;5;124m\"\u001b[39m\u001b[38;5;124mpyarrow\u001b[39m\u001b[38;5;124m\"\u001b[39m:\n\u001b[0;32m     91\u001b[0m     \u001b[38;5;66;03m# Fail here loudly instead of in cython after reading\u001b[39;00m\n\u001b[0;32m     92\u001b[0m     import_optional_dependency(\u001b[38;5;124m\"\u001b[39m\u001b[38;5;124mpyarrow\u001b[39m\u001b[38;5;124m\"\u001b[39m)\n\u001b[1;32m---> 93\u001b[0m \u001b[38;5;28mself\u001b[39m\u001b[38;5;241m.\u001b[39m_reader \u001b[38;5;241m=\u001b[39m parsers\u001b[38;5;241m.\u001b[39mTextReader(src, \u001b[38;5;241m*\u001b[39m\u001b[38;5;241m*\u001b[39mkwds)\n\u001b[0;32m     95\u001b[0m \u001b[38;5;28mself\u001b[39m\u001b[38;5;241m.\u001b[39munnamed_cols \u001b[38;5;241m=\u001b[39m \u001b[38;5;28mself\u001b[39m\u001b[38;5;241m.\u001b[39m_reader\u001b[38;5;241m.\u001b[39munnamed_cols\n\u001b[0;32m     97\u001b[0m \u001b[38;5;66;03m# error: Cannot determine type of 'names'\u001b[39;00m\n",
      "File \u001b[1;32mparsers.pyx:574\u001b[0m, in \u001b[0;36mpandas._libs.parsers.TextReader.__cinit__\u001b[1;34m()\u001b[0m\n",
      "File \u001b[1;32mparsers.pyx:663\u001b[0m, in \u001b[0;36mpandas._libs.parsers.TextReader._get_header\u001b[1;34m()\u001b[0m\n",
      "File \u001b[1;32mparsers.pyx:874\u001b[0m, in \u001b[0;36mpandas._libs.parsers.TextReader._tokenize_rows\u001b[1;34m()\u001b[0m\n",
      "File \u001b[1;32mparsers.pyx:891\u001b[0m, in \u001b[0;36mpandas._libs.parsers.TextReader._check_tokenize_status\u001b[1;34m()\u001b[0m\n",
      "File \u001b[1;32mparsers.pyx:2053\u001b[0m, in \u001b[0;36mpandas._libs.parsers.raise_parser_error\u001b[1;34m()\u001b[0m\n",
      "\u001b[1;31mUnicodeDecodeError\u001b[0m: 'utf-8' codec can't decode byte 0x96 in position 25272: invalid start byte"
     ]
    }
   ],
   "source": [
    "# Tentando carregar o dataset com codificação diferente de UTF-8\n",
    "dataset = pd.read_csv(\"PoliceKillingsUS.csv\", na_values = lista_labels_valores_ausentes)"
   ]
  },
  {
   "cell_type": "markdown",
   "id": "0b55a11a",
   "metadata": {},
   "source": [
    "Vamos descobrir a codificação desse arquivo..."
   ]
  },
  {
   "cell_type": "code",
   "execution_count": 18,
   "id": "822c24d7",
   "metadata": {},
   "outputs": [
    {
     "name": "stdout",
     "output_type": "stream",
     "text": [
      "{'encoding': 'ascii', 'confidence': 1.0, 'language': ''}\n"
     ]
    }
   ],
   "source": [
    "# Olhando os primeiros 10 mil bytes para tentar determinar a codificação\n",
    "with open(\"PoliceKillingsUS.csv\", 'rb') as dados:\n",
    "    resultado = chardet.detect(dados.read(10000))\n",
    "\n",
    "# Verificando qual é a codificação de caracteres que foi determinada pelo método detect\n",
    "print(resultado)"
   ]
  },
  {
   "cell_type": "markdown",
   "id": "190abe58",
   "metadata": {},
   "source": [
    "Vejam que agora o método detect do pacote chardet nos deu 100% de confiança que os dados estão com a codificação ascii. Assim, vamos tentar carregar o dataset com essa codificação."
   ]
  },
  {
   "cell_type": "code",
   "execution_count": 19,
   "id": "106107d6",
   "metadata": {},
   "outputs": [
    {
     "ename": "UnicodeDecodeError",
     "evalue": "'ascii' codec can't decode byte 0x96 in position 25272: ordinal not in range(128)",
     "output_type": "error",
     "traceback": [
      "\u001b[1;31m---------------------------------------------------------------------------\u001b[0m",
      "\u001b[1;31mUnicodeDecodeError\u001b[0m                        Traceback (most recent call last)",
      "Cell \u001b[1;32mIn[19], line 2\u001b[0m\n\u001b[0;32m      1\u001b[0m \u001b[38;5;66;03m# Tentando carregar o dataset com codificação \"ascii\"\u001b[39;00m\n\u001b[1;32m----> 2\u001b[0m dataset \u001b[38;5;241m=\u001b[39m pd\u001b[38;5;241m.\u001b[39mread_csv(\u001b[38;5;124m\"\u001b[39m\u001b[38;5;124mPoliceKillingsUS.csv\u001b[39m\u001b[38;5;124m\"\u001b[39m, na_values \u001b[38;5;241m=\u001b[39m lista_labels_valores_ausentes, encoding\u001b[38;5;241m=\u001b[39m\u001b[38;5;124m'\u001b[39m\u001b[38;5;124mascii\u001b[39m\u001b[38;5;124m'\u001b[39m)\n",
      "File \u001b[1;32m~\\anaconda3\\Lib\\site-packages\\pandas\\io\\parsers\\readers.py:1026\u001b[0m, in \u001b[0;36mread_csv\u001b[1;34m(filepath_or_buffer, sep, delimiter, header, names, index_col, usecols, dtype, engine, converters, true_values, false_values, skipinitialspace, skiprows, skipfooter, nrows, na_values, keep_default_na, na_filter, verbose, skip_blank_lines, parse_dates, infer_datetime_format, keep_date_col, date_parser, date_format, dayfirst, cache_dates, iterator, chunksize, compression, thousands, decimal, lineterminator, quotechar, quoting, doublequote, escapechar, comment, encoding, encoding_errors, dialect, on_bad_lines, delim_whitespace, low_memory, memory_map, float_precision, storage_options, dtype_backend)\u001b[0m\n\u001b[0;32m   1013\u001b[0m kwds_defaults \u001b[38;5;241m=\u001b[39m _refine_defaults_read(\n\u001b[0;32m   1014\u001b[0m     dialect,\n\u001b[0;32m   1015\u001b[0m     delimiter,\n\u001b[1;32m   (...)\u001b[0m\n\u001b[0;32m   1022\u001b[0m     dtype_backend\u001b[38;5;241m=\u001b[39mdtype_backend,\n\u001b[0;32m   1023\u001b[0m )\n\u001b[0;32m   1024\u001b[0m kwds\u001b[38;5;241m.\u001b[39mupdate(kwds_defaults)\n\u001b[1;32m-> 1026\u001b[0m \u001b[38;5;28;01mreturn\u001b[39;00m _read(filepath_or_buffer, kwds)\n",
      "File \u001b[1;32m~\\anaconda3\\Lib\\site-packages\\pandas\\io\\parsers\\readers.py:620\u001b[0m, in \u001b[0;36m_read\u001b[1;34m(filepath_or_buffer, kwds)\u001b[0m\n\u001b[0;32m    617\u001b[0m _validate_names(kwds\u001b[38;5;241m.\u001b[39mget(\u001b[38;5;124m\"\u001b[39m\u001b[38;5;124mnames\u001b[39m\u001b[38;5;124m\"\u001b[39m, \u001b[38;5;28;01mNone\u001b[39;00m))\n\u001b[0;32m    619\u001b[0m \u001b[38;5;66;03m# Create the parser.\u001b[39;00m\n\u001b[1;32m--> 620\u001b[0m parser \u001b[38;5;241m=\u001b[39m TextFileReader(filepath_or_buffer, \u001b[38;5;241m*\u001b[39m\u001b[38;5;241m*\u001b[39mkwds)\n\u001b[0;32m    622\u001b[0m \u001b[38;5;28;01mif\u001b[39;00m chunksize \u001b[38;5;129;01mor\u001b[39;00m iterator:\n\u001b[0;32m    623\u001b[0m     \u001b[38;5;28;01mreturn\u001b[39;00m parser\n",
      "File \u001b[1;32m~\\anaconda3\\Lib\\site-packages\\pandas\\io\\parsers\\readers.py:1620\u001b[0m, in \u001b[0;36mTextFileReader.__init__\u001b[1;34m(self, f, engine, **kwds)\u001b[0m\n\u001b[0;32m   1617\u001b[0m     \u001b[38;5;28mself\u001b[39m\u001b[38;5;241m.\u001b[39moptions[\u001b[38;5;124m\"\u001b[39m\u001b[38;5;124mhas_index_names\u001b[39m\u001b[38;5;124m\"\u001b[39m] \u001b[38;5;241m=\u001b[39m kwds[\u001b[38;5;124m\"\u001b[39m\u001b[38;5;124mhas_index_names\u001b[39m\u001b[38;5;124m\"\u001b[39m]\n\u001b[0;32m   1619\u001b[0m \u001b[38;5;28mself\u001b[39m\u001b[38;5;241m.\u001b[39mhandles: IOHandles \u001b[38;5;241m|\u001b[39m \u001b[38;5;28;01mNone\u001b[39;00m \u001b[38;5;241m=\u001b[39m \u001b[38;5;28;01mNone\u001b[39;00m\n\u001b[1;32m-> 1620\u001b[0m \u001b[38;5;28mself\u001b[39m\u001b[38;5;241m.\u001b[39m_engine \u001b[38;5;241m=\u001b[39m \u001b[38;5;28mself\u001b[39m\u001b[38;5;241m.\u001b[39m_make_engine(f, \u001b[38;5;28mself\u001b[39m\u001b[38;5;241m.\u001b[39mengine)\n",
      "File \u001b[1;32m~\\anaconda3\\Lib\\site-packages\\pandas\\io\\parsers\\readers.py:1898\u001b[0m, in \u001b[0;36mTextFileReader._make_engine\u001b[1;34m(self, f, engine)\u001b[0m\n\u001b[0;32m   1895\u001b[0m     \u001b[38;5;28;01mraise\u001b[39;00m \u001b[38;5;167;01mValueError\u001b[39;00m(msg)\n\u001b[0;32m   1897\u001b[0m \u001b[38;5;28;01mtry\u001b[39;00m:\n\u001b[1;32m-> 1898\u001b[0m     \u001b[38;5;28;01mreturn\u001b[39;00m mapping[engine](f, \u001b[38;5;241m*\u001b[39m\u001b[38;5;241m*\u001b[39m\u001b[38;5;28mself\u001b[39m\u001b[38;5;241m.\u001b[39moptions)\n\u001b[0;32m   1899\u001b[0m \u001b[38;5;28;01mexcept\u001b[39;00m \u001b[38;5;167;01mException\u001b[39;00m:\n\u001b[0;32m   1900\u001b[0m     \u001b[38;5;28;01mif\u001b[39;00m \u001b[38;5;28mself\u001b[39m\u001b[38;5;241m.\u001b[39mhandles \u001b[38;5;129;01mis\u001b[39;00m \u001b[38;5;129;01mnot\u001b[39;00m \u001b[38;5;28;01mNone\u001b[39;00m:\n",
      "File \u001b[1;32m~\\anaconda3\\Lib\\site-packages\\pandas\\io\\parsers\\c_parser_wrapper.py:93\u001b[0m, in \u001b[0;36mCParserWrapper.__init__\u001b[1;34m(self, src, **kwds)\u001b[0m\n\u001b[0;32m     90\u001b[0m \u001b[38;5;28;01mif\u001b[39;00m kwds[\u001b[38;5;124m\"\u001b[39m\u001b[38;5;124mdtype_backend\u001b[39m\u001b[38;5;124m\"\u001b[39m] \u001b[38;5;241m==\u001b[39m \u001b[38;5;124m\"\u001b[39m\u001b[38;5;124mpyarrow\u001b[39m\u001b[38;5;124m\"\u001b[39m:\n\u001b[0;32m     91\u001b[0m     \u001b[38;5;66;03m# Fail here loudly instead of in cython after reading\u001b[39;00m\n\u001b[0;32m     92\u001b[0m     import_optional_dependency(\u001b[38;5;124m\"\u001b[39m\u001b[38;5;124mpyarrow\u001b[39m\u001b[38;5;124m\"\u001b[39m)\n\u001b[1;32m---> 93\u001b[0m \u001b[38;5;28mself\u001b[39m\u001b[38;5;241m.\u001b[39m_reader \u001b[38;5;241m=\u001b[39m parsers\u001b[38;5;241m.\u001b[39mTextReader(src, \u001b[38;5;241m*\u001b[39m\u001b[38;5;241m*\u001b[39mkwds)\n\u001b[0;32m     95\u001b[0m \u001b[38;5;28mself\u001b[39m\u001b[38;5;241m.\u001b[39munnamed_cols \u001b[38;5;241m=\u001b[39m \u001b[38;5;28mself\u001b[39m\u001b[38;5;241m.\u001b[39m_reader\u001b[38;5;241m.\u001b[39munnamed_cols\n\u001b[0;32m     97\u001b[0m \u001b[38;5;66;03m# error: Cannot determine type of 'names'\u001b[39;00m\n",
      "File \u001b[1;32mparsers.pyx:574\u001b[0m, in \u001b[0;36mpandas._libs.parsers.TextReader.__cinit__\u001b[1;34m()\u001b[0m\n",
      "File \u001b[1;32mparsers.pyx:663\u001b[0m, in \u001b[0;36mpandas._libs.parsers.TextReader._get_header\u001b[1;34m()\u001b[0m\n",
      "File \u001b[1;32mparsers.pyx:874\u001b[0m, in \u001b[0;36mpandas._libs.parsers.TextReader._tokenize_rows\u001b[1;34m()\u001b[0m\n",
      "File \u001b[1;32mparsers.pyx:891\u001b[0m, in \u001b[0;36mpandas._libs.parsers.TextReader._check_tokenize_status\u001b[1;34m()\u001b[0m\n",
      "File \u001b[1;32mparsers.pyx:2053\u001b[0m, in \u001b[0;36mpandas._libs.parsers.raise_parser_error\u001b[1;34m()\u001b[0m\n",
      "\u001b[1;31mUnicodeDecodeError\u001b[0m: 'ascii' codec can't decode byte 0x96 in position 25272: ordinal not in range(128)"
     ]
    }
   ],
   "source": [
    "# Tentando carregar o dataset com codificação \"ascii\"\n",
    "dataset = pd.read_csv(\"PoliceKillingsUS.csv\", na_values = lista_labels_valores_ausentes, encoding='ascii')"
   ]
  },
  {
   "cell_type": "markdown",
   "id": "ce31b9db",
   "metadata": {},
   "source": [
    "Opa!!!  Parece que os 10 mil primeiros bytes não foram suficientes para determinar a codificação correta.\n",
    "\n",
    "Vamos aumentar para 100 mil, e ver o que acontece!"
   ]
  },
  {
   "cell_type": "code",
   "execution_count": 20,
   "id": "d9b8dc84",
   "metadata": {},
   "outputs": [
    {
     "name": "stdout",
     "output_type": "stream",
     "text": [
      "{'encoding': 'Windows-1252', 'confidence': 0.73, 'language': ''}\n"
     ]
    }
   ],
   "source": [
    "# Olhando agora os primeiros 100 mil bytes para tentar determinar a codificação de forma mais correta\n",
    "with open(\"PoliceKillingsUS.csv\", 'rb') as dados:\n",
    "    resultado = chardet.detect(dados.read(100000))\n",
    "\n",
    "# Verificando qual é a codificação de caracteres que foi determinada pelo método detect\n",
    "print(resultado)"
   ]
  },
  {
   "cell_type": "markdown",
   "id": "4ede29bd",
   "metadata": {},
   "source": [
    "Vejam que agora com esse aumento de dados para análise, a codificação retornada foi \"Windows-1252\" com 73% de confiança. Vamos tentar agora abrir o arquivo com essa codificação..."
   ]
  },
  {
   "cell_type": "code",
   "execution_count": 21,
   "id": "f94101df",
   "metadata": {},
   "outputs": [],
   "source": [
    "# Tentando carregar o dataset com codificação \"Windows-1252\"\n",
    "dataset = pd.read_csv(\"PoliceKillingsUS.csv\", na_values = lista_labels_valores_ausentes, encoding='Windows-1252')"
   ]
  },
  {
   "cell_type": "markdown",
   "id": "c6739a02",
   "metadata": {},
   "source": [
    "Agora sim!! Sucesso na abertura... Vamos dar uma olhada nos dados."
   ]
  },
  {
   "cell_type": "code",
   "execution_count": 22,
   "id": "f96030f8",
   "metadata": {
    "scrolled": true
   },
   "outputs": [
    {
     "name": "stdout",
     "output_type": "stream",
     "text": [
      "<class 'pandas.core.frame.DataFrame'>\n",
      "RangeIndex: 2535 entries, 0 to 2534\n",
      "Data columns (total 14 columns):\n",
      " #   Column                   Non-Null Count  Dtype  \n",
      "---  ------                   --------------  -----  \n",
      " 0   id                       2535 non-null   int64  \n",
      " 1   name                     2535 non-null   object \n",
      " 2   date                     2535 non-null   object \n",
      " 3   manner_of_death          2535 non-null   object \n",
      " 4   armed                    2526 non-null   object \n",
      " 5   age                      2458 non-null   float64\n",
      " 6   gender                   2535 non-null   object \n",
      " 7   race                     2340 non-null   object \n",
      " 8   city                     2535 non-null   object \n",
      " 9   state                    2535 non-null   object \n",
      " 10  signs_of_mental_illness  2535 non-null   bool   \n",
      " 11  threat_level             2535 non-null   object \n",
      " 12  flee                     2470 non-null   object \n",
      " 13  body_camera              2535 non-null   bool   \n",
      "dtypes: bool(2), float64(1), int64(1), object(10)\n",
      "memory usage: 242.7+ KB\n"
     ]
    }
   ],
   "source": [
    "dataset.info()"
   ]
  },
  {
   "cell_type": "code",
   "execution_count": 23,
   "id": "24487b79",
   "metadata": {},
   "outputs": [
    {
     "data": {
      "text/html": [
       "<div>\n",
       "<style scoped>\n",
       "    .dataframe tbody tr th:only-of-type {\n",
       "        vertical-align: middle;\n",
       "    }\n",
       "\n",
       "    .dataframe tbody tr th {\n",
       "        vertical-align: top;\n",
       "    }\n",
       "\n",
       "    .dataframe thead th {\n",
       "        text-align: right;\n",
       "    }\n",
       "</style>\n",
       "<table border=\"1\" class=\"dataframe\">\n",
       "  <thead>\n",
       "    <tr style=\"text-align: right;\">\n",
       "      <th></th>\n",
       "      <th>id</th>\n",
       "      <th>name</th>\n",
       "      <th>date</th>\n",
       "      <th>manner_of_death</th>\n",
       "      <th>armed</th>\n",
       "      <th>age</th>\n",
       "      <th>gender</th>\n",
       "      <th>race</th>\n",
       "      <th>city</th>\n",
       "      <th>state</th>\n",
       "      <th>signs_of_mental_illness</th>\n",
       "      <th>threat_level</th>\n",
       "      <th>flee</th>\n",
       "      <th>body_camera</th>\n",
       "    </tr>\n",
       "  </thead>\n",
       "  <tbody>\n",
       "    <tr>\n",
       "      <th>0</th>\n",
       "      <td>3</td>\n",
       "      <td>Tim Elliot</td>\n",
       "      <td>02/01/15</td>\n",
       "      <td>shot</td>\n",
       "      <td>gun</td>\n",
       "      <td>53.0</td>\n",
       "      <td>M</td>\n",
       "      <td>A</td>\n",
       "      <td>Shelton</td>\n",
       "      <td>WA</td>\n",
       "      <td>True</td>\n",
       "      <td>attack</td>\n",
       "      <td>Not fleeing</td>\n",
       "      <td>False</td>\n",
       "    </tr>\n",
       "    <tr>\n",
       "      <th>1</th>\n",
       "      <td>4</td>\n",
       "      <td>Lewis Lee Lembke</td>\n",
       "      <td>02/01/15</td>\n",
       "      <td>shot</td>\n",
       "      <td>gun</td>\n",
       "      <td>47.0</td>\n",
       "      <td>M</td>\n",
       "      <td>W</td>\n",
       "      <td>Aloha</td>\n",
       "      <td>OR</td>\n",
       "      <td>False</td>\n",
       "      <td>attack</td>\n",
       "      <td>Not fleeing</td>\n",
       "      <td>False</td>\n",
       "    </tr>\n",
       "    <tr>\n",
       "      <th>2</th>\n",
       "      <td>5</td>\n",
       "      <td>John Paul Quintero</td>\n",
       "      <td>03/01/15</td>\n",
       "      <td>shot and Tasered</td>\n",
       "      <td>unarmed</td>\n",
       "      <td>23.0</td>\n",
       "      <td>M</td>\n",
       "      <td>H</td>\n",
       "      <td>Wichita</td>\n",
       "      <td>KS</td>\n",
       "      <td>False</td>\n",
       "      <td>other</td>\n",
       "      <td>Not fleeing</td>\n",
       "      <td>False</td>\n",
       "    </tr>\n",
       "    <tr>\n",
       "      <th>3</th>\n",
       "      <td>8</td>\n",
       "      <td>Matthew Hoffman</td>\n",
       "      <td>04/01/15</td>\n",
       "      <td>shot</td>\n",
       "      <td>toy weapon</td>\n",
       "      <td>32.0</td>\n",
       "      <td>M</td>\n",
       "      <td>W</td>\n",
       "      <td>San Francisco</td>\n",
       "      <td>CA</td>\n",
       "      <td>True</td>\n",
       "      <td>attack</td>\n",
       "      <td>Not fleeing</td>\n",
       "      <td>False</td>\n",
       "    </tr>\n",
       "    <tr>\n",
       "      <th>4</th>\n",
       "      <td>9</td>\n",
       "      <td>Michael Rodriguez</td>\n",
       "      <td>04/01/15</td>\n",
       "      <td>shot</td>\n",
       "      <td>nail gun</td>\n",
       "      <td>39.0</td>\n",
       "      <td>M</td>\n",
       "      <td>H</td>\n",
       "      <td>Evans</td>\n",
       "      <td>CO</td>\n",
       "      <td>False</td>\n",
       "      <td>attack</td>\n",
       "      <td>Not fleeing</td>\n",
       "      <td>False</td>\n",
       "    </tr>\n",
       "  </tbody>\n",
       "</table>\n",
       "</div>"
      ],
      "text/plain": [
       "   id                name      date   manner_of_death       armed   age  \\\n",
       "0   3          Tim Elliot  02/01/15              shot         gun  53.0   \n",
       "1   4    Lewis Lee Lembke  02/01/15              shot         gun  47.0   \n",
       "2   5  John Paul Quintero  03/01/15  shot and Tasered     unarmed  23.0   \n",
       "3   8     Matthew Hoffman  04/01/15              shot  toy weapon  32.0   \n",
       "4   9   Michael Rodriguez  04/01/15              shot    nail gun  39.0   \n",
       "\n",
       "  gender race           city state  signs_of_mental_illness threat_level  \\\n",
       "0      M    A        Shelton    WA                     True       attack   \n",
       "1      M    W          Aloha    OR                    False       attack   \n",
       "2      M    H        Wichita    KS                    False        other   \n",
       "3      M    W  San Francisco    CA                     True       attack   \n",
       "4      M    H          Evans    CO                    False       attack   \n",
       "\n",
       "          flee  body_camera  \n",
       "0  Not fleeing        False  \n",
       "1  Not fleeing        False  \n",
       "2  Not fleeing        False  \n",
       "3  Not fleeing        False  \n",
       "4  Not fleeing        False  "
      ]
     },
     "execution_count": 23,
     "metadata": {},
     "output_type": "execute_result"
    }
   ],
   "source": [
    "dataset.head()"
   ]
  },
  {
   "cell_type": "code",
   "execution_count": 24,
   "id": "359feb06",
   "metadata": {},
   "outputs": [
    {
     "data": {
      "text/plain": [
       "(2535, 14)"
      ]
     },
     "execution_count": 24,
     "metadata": {},
     "output_type": "execute_result"
    }
   ],
   "source": [
    "dataset.shape"
   ]
  },
  {
   "cell_type": "markdown",
   "id": "db367441-5f4e-49cc-be00-42067b751d49",
   "metadata": {},
   "source": [
    "## Passo 2: Limpeza e Preparação dos Dados"
   ]
  },
  {
   "cell_type": "code",
   "execution_count": 25,
   "id": "966833c9",
   "metadata": {},
   "outputs": [
    {
     "data": {
      "text/plain": [
       "id                           0\n",
       "name                         0\n",
       "date                         0\n",
       "manner_of_death              0\n",
       "armed                        9\n",
       "age                         77\n",
       "gender                       0\n",
       "race                       195\n",
       "city                         0\n",
       "state                        0\n",
       "signs_of_mental_illness      0\n",
       "threat_level                 0\n",
       "flee                        65\n",
       "body_camera                  0\n",
       "dtype: int64"
      ]
     },
     "execution_count": 25,
     "metadata": {},
     "output_type": "execute_result"
    }
   ],
   "source": [
    "# 1. Identificar valores ausentes\n",
    "contagem_valores_ausentes = dataset.isnull().sum()\n",
    "contagem_valores_ausentes[0:20]"
   ]
  },
  {
   "cell_type": "code",
   "execution_count": 26,
   "id": "917efce1",
   "metadata": {},
   "outputs": [
    {
     "name": "stdout",
     "output_type": "stream",
     "text": [
      "Percentual de Dados ausentes no dataset: 0.97%\n"
     ]
    }
   ],
   "source": [
    "# Calculando os totais de celulas e de celulas com valores ausentes (total_nulos) \n",
    "total_celulas = np.prod(dataset.shape)\n",
    "total_nulos = contagem_valores_ausentes.sum()\n",
    "# Calculando o percentual de dados ausentes em DESLIZAMENTOS\n",
    "print(f\"Percentual de Dados ausentes no dataset: {(total_nulos/total_celulas):.2%}\")"
   ]
  },
  {
   "cell_type": "code",
   "execution_count": 27,
   "id": "bc01644a-4a94-43b1-af99-90af5acabd07",
   "metadata": {},
   "outputs": [],
   "source": [
    "# 2. Tratar valores ausentes...\n",
    "# Decisões: \n",
    "# - Colunas categóricas: substituir por 'desconhecido' para manter os registros\n",
    "# - Idade: substituir pela mediana (mais robusta que a média)\n",
    "\n",
    "# Tratar 'armed' (armas)\n",
    "dataset['armed'] = dataset['armed'].fillna('undetermined')"
   ]
  },
  {
   "cell_type": "code",
   "execution_count": 28,
   "id": "4f99780e-3649-47d6-8277-0457ad3c1d67",
   "metadata": {},
   "outputs": [],
   "source": [
    "# Tratar 'age' (idade)\n",
    "median_age = dataset['age'].median()\n",
    "dataset['age'] = dataset['age'].fillna(median_age)"
   ]
  },
  {
   "cell_type": "code",
   "execution_count": 29,
   "id": "f93889b8-15ea-4853-a50f-b17396641922",
   "metadata": {},
   "outputs": [],
   "source": [
    "# Tratar 'race' (raça)\n",
    "dataset['race'] = dataset['race'].fillna('Unknown')"
   ]
  },
  {
   "cell_type": "code",
   "execution_count": 30,
   "id": "363ddfd5-0f30-464b-bf3d-c5b76d7f9c27",
   "metadata": {},
   "outputs": [],
   "source": [
    "# Tratar 'gender' (gênero)\n",
    "dataset['gender'] = dataset['gender'].fillna('Unknown')"
   ]
  },
  {
   "cell_type": "code",
   "execution_count": 31,
   "id": "6679cb82-73a5-405a-a859-166452fb6545",
   "metadata": {},
   "outputs": [],
   "source": [
    "# Tratar 'flee' (fuga / escape)\n",
    "dataset['flee'] = dataset['flee'].fillna('Unknown')"
   ]
  },
  {
   "cell_type": "code",
   "execution_count": 32,
   "id": "148d4e31-14e7-4b03-91aa-815f0f6cee1e",
   "metadata": {},
   "outputs": [],
   "source": [
    "# 3. Padronizar colunas categóricas\n",
    "# Mapear códigos de raça para nomes completos\n",
    "race_mapping = {\n",
    "    'W': 'White', \n",
    "    'B': 'Black', \n",
    "    'H': 'Hispanic', \n",
    "    'A': 'Asian',\n",
    "    'N': 'Native American',\n",
    "    'O': 'Other',\n",
    "    'Unknown': 'Unknown'\n",
    "}\n",
    "dataset['race'] = dataset['race'].map(race_mapping)"
   ]
  },
  {
   "cell_type": "code",
   "execution_count": 33,
   "id": "b85bad94-1039-4918-86a9-8b68c4e9e24c",
   "metadata": {},
   "outputs": [],
   "source": [
    "# Mapear 'threat_level' se necessário\n",
    "threat_mapping = {\n",
    "    'attack': 'Attack',\n",
    "    'other': 'Other',\n",
    "    'undetermined': 'Undetermined'\n",
    "}\n",
    "dataset['threat_level'] = dataset['threat_level'].str.lower().map(threat_mapping)"
   ]
  },
  {
   "cell_type": "code",
   "execution_count": 34,
   "id": "cb6f8fdf-5aeb-461b-ba3d-46e2e4d5a7ac",
   "metadata": {},
   "outputs": [
    {
     "name": "stdout",
     "output_type": "stream",
     "text": [
      "\n",
      "Primeiras linhas após limpeza:\n",
      "\n"
     ]
    },
    {
     "data": {
      "text/html": [
       "<div>\n",
       "<style scoped>\n",
       "    .dataframe tbody tr th:only-of-type {\n",
       "        vertical-align: middle;\n",
       "    }\n",
       "\n",
       "    .dataframe tbody tr th {\n",
       "        vertical-align: top;\n",
       "    }\n",
       "\n",
       "    .dataframe thead th {\n",
       "        text-align: right;\n",
       "    }\n",
       "</style>\n",
       "<table border=\"1\" class=\"dataframe\">\n",
       "  <thead>\n",
       "    <tr style=\"text-align: right;\">\n",
       "      <th></th>\n",
       "      <th>id</th>\n",
       "      <th>name</th>\n",
       "      <th>date</th>\n",
       "      <th>manner_of_death</th>\n",
       "      <th>armed</th>\n",
       "      <th>age</th>\n",
       "      <th>gender</th>\n",
       "      <th>race</th>\n",
       "      <th>city</th>\n",
       "      <th>state</th>\n",
       "      <th>signs_of_mental_illness</th>\n",
       "      <th>threat_level</th>\n",
       "      <th>flee</th>\n",
       "      <th>body_camera</th>\n",
       "    </tr>\n",
       "  </thead>\n",
       "  <tbody>\n",
       "    <tr>\n",
       "      <th>0</th>\n",
       "      <td>3</td>\n",
       "      <td>Tim Elliot</td>\n",
       "      <td>02/01/15</td>\n",
       "      <td>shot</td>\n",
       "      <td>gun</td>\n",
       "      <td>53.0</td>\n",
       "      <td>M</td>\n",
       "      <td>Asian</td>\n",
       "      <td>Shelton</td>\n",
       "      <td>WA</td>\n",
       "      <td>True</td>\n",
       "      <td>Attack</td>\n",
       "      <td>Not fleeing</td>\n",
       "      <td>False</td>\n",
       "    </tr>\n",
       "    <tr>\n",
       "      <th>1</th>\n",
       "      <td>4</td>\n",
       "      <td>Lewis Lee Lembke</td>\n",
       "      <td>02/01/15</td>\n",
       "      <td>shot</td>\n",
       "      <td>gun</td>\n",
       "      <td>47.0</td>\n",
       "      <td>M</td>\n",
       "      <td>White</td>\n",
       "      <td>Aloha</td>\n",
       "      <td>OR</td>\n",
       "      <td>False</td>\n",
       "      <td>Attack</td>\n",
       "      <td>Not fleeing</td>\n",
       "      <td>False</td>\n",
       "    </tr>\n",
       "    <tr>\n",
       "      <th>2</th>\n",
       "      <td>5</td>\n",
       "      <td>John Paul Quintero</td>\n",
       "      <td>03/01/15</td>\n",
       "      <td>shot and Tasered</td>\n",
       "      <td>unarmed</td>\n",
       "      <td>23.0</td>\n",
       "      <td>M</td>\n",
       "      <td>Hispanic</td>\n",
       "      <td>Wichita</td>\n",
       "      <td>KS</td>\n",
       "      <td>False</td>\n",
       "      <td>Other</td>\n",
       "      <td>Not fleeing</td>\n",
       "      <td>False</td>\n",
       "    </tr>\n",
       "    <tr>\n",
       "      <th>3</th>\n",
       "      <td>8</td>\n",
       "      <td>Matthew Hoffman</td>\n",
       "      <td>04/01/15</td>\n",
       "      <td>shot</td>\n",
       "      <td>toy weapon</td>\n",
       "      <td>32.0</td>\n",
       "      <td>M</td>\n",
       "      <td>White</td>\n",
       "      <td>San Francisco</td>\n",
       "      <td>CA</td>\n",
       "      <td>True</td>\n",
       "      <td>Attack</td>\n",
       "      <td>Not fleeing</td>\n",
       "      <td>False</td>\n",
       "    </tr>\n",
       "    <tr>\n",
       "      <th>4</th>\n",
       "      <td>9</td>\n",
       "      <td>Michael Rodriguez</td>\n",
       "      <td>04/01/15</td>\n",
       "      <td>shot</td>\n",
       "      <td>nail gun</td>\n",
       "      <td>39.0</td>\n",
       "      <td>M</td>\n",
       "      <td>Hispanic</td>\n",
       "      <td>Evans</td>\n",
       "      <td>CO</td>\n",
       "      <td>False</td>\n",
       "      <td>Attack</td>\n",
       "      <td>Not fleeing</td>\n",
       "      <td>False</td>\n",
       "    </tr>\n",
       "  </tbody>\n",
       "</table>\n",
       "</div>"
      ],
      "text/plain": [
       "   id                name      date   manner_of_death       armed   age  \\\n",
       "0   3          Tim Elliot  02/01/15              shot         gun  53.0   \n",
       "1   4    Lewis Lee Lembke  02/01/15              shot         gun  47.0   \n",
       "2   5  John Paul Quintero  03/01/15  shot and Tasered     unarmed  23.0   \n",
       "3   8     Matthew Hoffman  04/01/15              shot  toy weapon  32.0   \n",
       "4   9   Michael Rodriguez  04/01/15              shot    nail gun  39.0   \n",
       "\n",
       "  gender      race           city state  signs_of_mental_illness threat_level  \\\n",
       "0      M     Asian        Shelton    WA                     True       Attack   \n",
       "1      M     White          Aloha    OR                    False       Attack   \n",
       "2      M  Hispanic        Wichita    KS                    False        Other   \n",
       "3      M     White  San Francisco    CA                     True       Attack   \n",
       "4      M  Hispanic          Evans    CO                    False       Attack   \n",
       "\n",
       "          flee  body_camera  \n",
       "0  Not fleeing        False  \n",
       "1  Not fleeing        False  \n",
       "2  Not fleeing        False  \n",
       "3  Not fleeing        False  \n",
       "4  Not fleeing        False  "
      ]
     },
     "execution_count": 34,
     "metadata": {},
     "output_type": "execute_result"
    }
   ],
   "source": [
    "# Verificar resultado\n",
    "print(\"\\nPrimeiras linhas após limpeza:\\n\")\n",
    "dataset.head()"
   ]
  },
  {
   "cell_type": "code",
   "execution_count": 35,
   "id": "80717370-a8d0-495d-bcee-1a83ee1ad799",
   "metadata": {},
   "outputs": [
    {
     "data": {
      "text/plain": [
       "id                         0\n",
       "name                       0\n",
       "date                       0\n",
       "manner_of_death            0\n",
       "armed                      0\n",
       "age                        0\n",
       "gender                     0\n",
       "race                       0\n",
       "city                       0\n",
       "state                      0\n",
       "signs_of_mental_illness    0\n",
       "threat_level               0\n",
       "flee                       0\n",
       "body_camera                0\n",
       "dtype: int64"
      ]
     },
     "execution_count": 35,
     "metadata": {},
     "output_type": "execute_result"
    }
   ],
   "source": [
    "#Verificando os valores ausentes\n",
    "contagem_valores_ausentes = dataset.isnull().sum()\n",
    "contagem_valores_ausentes[0:20]"
   ]
  },
  {
   "cell_type": "code",
   "execution_count": 36,
   "id": "01bdc4ee-ab35-445d-a1d1-48adbce23af3",
   "metadata": {},
   "outputs": [
    {
     "name": "stdout",
     "output_type": "stream",
     "text": [
      "Percentual de Dados ausentes no dataset: 0.00%\n"
     ]
    }
   ],
   "source": [
    "# Calculando os totais de celulas e de celulas com valores ausentes (total_nulos) \n",
    "total_celulas = np.prod(dataset.shape)\n",
    "total_nulos = contagem_valores_ausentes.sum()\n",
    "# Calculando o percentual de dados ausentes em DESLIZAMENTOS\n",
    "print(f\"Percentual de Dados ausentes no dataset: {(total_nulos/total_celulas):.2%}\")"
   ]
  },
  {
   "cell_type": "markdown",
   "id": "3986e382-d222-4fd7-92cd-290044c971ef",
   "metadata": {},
   "source": [
    "## Passo 3: Análise Exploratória (EDA)"
   ]
  },
  {
   "cell_type": "markdown",
   "id": "86a0591c-b9a9-4eb1-a291-e1f3145e08ba",
   "metadata": {},
   "source": [
    "#### 3.1 - Distribuição de Vítimas por Raça e Gênero"
   ]
  },
  {
   "cell_type": "code",
   "execution_count": 37,
   "id": "36717c13-39f8-4397-ae3d-e10411b0f39c",
   "metadata": {},
   "outputs": [
    {
     "data": {
      "image/png": "[encoded data removed]",
      "text/plain": [
       "<Figure size 1200x600 with 1 Axes>"
      ]
     },
     "metadata": {},
     "output_type": "display_data"
    }
   ],
   "source": [
    "plt.figure(figsize=(12, 6))\n",
    "sns.countplot(data=dataset, x='race', hue='gender', palette='viridis')\n",
    "plt.title('Distribuição de Vítimas por Raça e Gênero')\n",
    "plt.xlabel('Raça')\n",
    "plt.ylabel('Contagem')\n",
    "plt.xticks(rotation=45)\n",
    "plt.show()"
   ]
  },
  {
   "cell_type": "markdown",
   "id": "70e543fb-c4d7-4873-8fc8-8c86729b074b",
   "metadata": {},
   "source": [
    "#### 3.2 - Porcentagem de Casos com Sinais de Doença Mental"
   ]
  },
  {
   "cell_type": "code",
   "execution_count": 38,
   "id": "e677c60a-7f7f-48a9-885a-2cf1b92c1f7f",
   "metadata": {},
   "outputs": [
    {
     "data": {
      "image/png": "[encoded data removed]",
      "text/plain": [
       "<Figure size 600x600 with 1 Axes>"
      ]
     },
     "metadata": {},
     "output_type": "display_data"
    }
   ],
   "source": [
    "mental_illness = dataset['signs_of_mental_illness'].value_counts(normalize=True) * 100\n",
    "plt.figure(figsize=(6, 6))\n",
    "plt.pie(mental_illness, labels=['Sem Sinais', 'Com Sinais'], autopct='%1.1f%%')\n",
    "plt.title('Casos com Sinais de Doença Mental')\n",
    "plt.show()"
   ]
  },
  {
   "cell_type": "markdown",
   "id": "20a74248-464a-46de-baf3-80ef592563eb",
   "metadata": {},
   "source": [
    "#### 3.3 - Tipos de Arma Mais Comuns"
   ]
  },
  {
   "cell_type": "code",
   "execution_count": 39,
   "id": "426c2df5-f677-4add-9288-3cd54d7dde4d",
   "metadata": {},
   "outputs": [
    {
     "data": {
      "image/png": "[encoded data removed]",
      "text/plain": [
       "<Figure size 1000x600 with 1 Axes>"
      ]
     },
     "metadata": {},
     "output_type": "display_data"
    }
   ],
   "source": [
    "armas = dataset['armed'].value_counts().head(10)\n",
    "plt.figure(figsize=(10, 6))\n",
    "sns.barplot(x=armas.values, y=armas.index, palette='rocket')\n",
    "plt.title('Top 10 Tipos de Arma Mais Comuns')\n",
    "plt.xlabel('Contagem')\n",
    "plt.ylabel('Tipo de Arma')\n",
    "plt.show()"
   ]
  },
  {
   "cell_type": "markdown",
   "id": "dc145756-3e9d-4747-a497-f84e5b7c23eb",
   "metadata": {},
   "source": [
    "#### 3.4 - Padrões Geográficos (Estados)"
   ]
  },
  {
   "cell_type": "code",
   "execution_count": 40,
   "id": "d1dbd391-db0d-437c-be50-e741d12fa78c",
   "metadata": {},
   "outputs": [
    {
     "data": {
      "image/png": "[encoded data removed]",
      "text/plain": [
       "<Figure size 1000x600 with 1 Axes>"
      ]
     },
     "metadata": {},
     "output_type": "display_data"
    }
   ],
   "source": [
    "top_states = dataset['state'].value_counts().head(10)\n",
    "plt.figure(figsize=(10, 6))\n",
    "sns.barplot(x=top_states.values, y=top_states.index, palette='mako')\n",
    "plt.title('Top 10 Estados com Mais Incidentes')\n",
    "plt.xlabel('Número de Incidentes')\n",
    "plt.ylabel('Estado')\n",
    "plt.show()"
   ]
  },
  {
   "cell_type": "markdown",
   "id": "4b48ec80-145e-4a96-84d5-f536030fb7b8",
   "metadata": {},
   "source": [
    "#### 3.5 - Relação entre Nível de Ameaça e Desfecho"
   ]
  },
  {
   "cell_type": "code",
   "execution_count": 41,
   "id": "17f75b8f-75e6-4240-914e-f3ad846d2805",
   "metadata": {},
   "outputs": [
    {
     "data": {
      "image/png": "[encoded data removed]",
      "text/plain": [
       "<Figure size 1000x600 with 1 Axes>"
      ]
     },
     "metadata": {},
     "output_type": "display_data"
    }
   ],
   "source": [
    "# Cruzar 'threat_level' com 'race' ou 'signs_of_mental_illness'\n",
    "cross_tab = pd.crosstab(dataset['threat_level'], dataset['signs_of_mental_illness'], normalize='index') * 100\n",
    "cross_tab.plot(kind='bar', stacked=True, figsize=(10, 6))\n",
    "plt.title('Relação entre Nível de Ameaça e Sinais de Doença Mental')\n",
    "plt.xlabel('Nível de Ameaça')\n",
    "plt.ylabel('Porcentagem')\n",
    "plt.legend(title='Sinais de Doença Mental')\n",
    "plt.show()"
   ]
  },
  {
   "cell_type": "markdown",
   "id": "a334d5b7",
   "metadata": {},
   "source": [
    "## Passo 4: Salvando o Dataset com codificação UTF-8"
   ]
  },
  {
   "cell_type": "markdown",
   "id": "dfae67e1",
   "metadata": {},
   "source": [
    "Por fim, depois de passar por todo o trabalho de colocar seu arquivo em UTF-8, você provavelmente desejará mantê-lo assim. \n",
    "\n",
    "A maneira mais fácil de fazer isso é salvar seus arquivos com codificação UTF-8. \n",
    "\n",
    "A boa notícia é que, como UTF-8 é a codificação padrão em Python, quando você salva um arquivo, ele é salvo como UTF-8 por padrão:"
   ]
  },
  {
   "cell_type": "code",
   "execution_count": 42,
   "id": "67405a2a",
   "metadata": {},
   "outputs": [
    {
     "name": "stdout",
     "output_type": "stream",
     "text": [
      "Dataset salvo com sucesso!\n"
     ]
    }
   ],
   "source": [
    "# Salvando o dataset no formato UTF-8 (padrão de gravação)\n",
    "dataset.to_csv(\"PoliceKillingsUS-utf8.csv\")\n",
    "print(\"Dataset salvo com sucesso!\")"
   ]
  },
  {
   "cell_type": "markdown",
   "id": "5e2e269c",
   "metadata": {},
   "source": [
    "E aí está!! Agora com os dados salvos no formato UTF-8 não precisamos mais realizar identificação e novas parametrizações para a abertura desse dataset.\n"
   ]
  },
  {
   "cell_type": "markdown",
   "id": "23ceb782",
   "metadata": {},
   "source": [
    "# Fim Projeto 4"
   ]
  }
 ],
 "metadata": {
  "kernelspec": {
   "display_name": "Python 3 (ipykernel)",
   "language": "python",
   "name": "python3"
  },
  "language_info": {
   "codemirror_mode": {
    "name": "ipython",
    "version": 3
   },
   "file_extension": ".py",
   "mimetype": "text/x-python",
   "name": "python",
   "nbconvert_exporter": "python",
   "pygments_lexer": "ipython3",
   "version": "3.11.7"
  }
 },
 "nbformat": 4,
 "nbformat_minor": 5
}
